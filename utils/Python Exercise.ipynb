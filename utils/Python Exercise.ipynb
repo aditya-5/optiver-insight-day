{
 "cells": [
  {
   "cell_type": "markdown",
   "metadata": {},
   "source": [
    "# Virtual Insight Week 2021"
   ]
  },
  {
   "cell_type": "markdown",
   "metadata": {},
   "source": [
    "## Beginner Python Exercise"
   ]
  },
  {
   "cell_type": "markdown",
   "metadata": {},
   "source": [
    "### The following workbook will give you a brief introduction to some basic functionality in Python, along with a few exercises at the end.\n",
    "\n",
    "### Do as much as you can of the exercise, and use your breakout groups if you need a hand :)"
   ]
  },
  {
   "cell_type": "markdown",
   "metadata": {},
   "source": [
    "## Variables and Printing"
   ]
  },
  {
   "cell_type": "markdown",
   "metadata": {},
   "source": [
    "### We can set variables to have certain values in Python:"
   ]
  },
  {
   "cell_type": "code",
   "execution_count": 1,
   "metadata": {},
   "outputs": [],
   "source": [
    "a = 4\n",
    "b = 10\n",
    "x = \"hello\""
   ]
  },
  {
   "cell_type": "markdown",
   "metadata": {},
   "source": [
    "### The 'print()' function can be used to output to the terminal:"
   ]
  },
  {
   "cell_type": "code",
   "execution_count": 2,
   "metadata": {},
   "outputs": [
    {
     "name": "stdout",
     "output_type": "stream",
     "text": [
      "hello\n"
     ]
    }
   ],
   "source": [
    "print(\"hello\")"
   ]
  },
  {
   "cell_type": "markdown",
   "metadata": {},
   "source": [
    "### Print can also take in variables:"
   ]
  },
  {
   "cell_type": "code",
   "execution_count": 3,
   "metadata": {},
   "outputs": [
    {
     "name": "stdout",
     "output_type": "stream",
     "text": [
      "4\n",
      "14\n",
      "hello\n"
     ]
    }
   ],
   "source": [
    "print(a)\n",
    "\n",
    "print(a + b)\n",
    "\n",
    "print(x)\n",
    "\n",
    "# print(a + c) - throws a TypeError"
   ]
  },
  {
   "cell_type": "markdown",
   "metadata": {},
   "source": [
    "## Mathematical Operations"
   ]
  },
  {
   "cell_type": "code",
   "execution_count": 4,
   "metadata": {},
   "outputs": [
    {
     "name": "stdout",
     "output_type": "stream",
     "text": [
      "14\n",
      "-6\n",
      "40\n",
      "0.4\n"
     ]
    }
   ],
   "source": [
    "print(a + b)\n",
    "print(a - b)\n",
    "print(a * b)\n",
    "print(a / b)"
   ]
  },
  {
   "cell_type": "code",
   "execution_count": 5,
   "metadata": {},
   "outputs": [
    {
     "name": "stdout",
     "output_type": "stream",
     "text": [
      "14\n"
     ]
    }
   ],
   "source": [
    "c = a + b\n",
    "\n",
    "print(c)"
   ]
  },
  {
   "cell_type": "markdown",
   "metadata": {},
   "source": [
    "## Functions"
   ]
  },
  {
   "cell_type": "code",
   "execution_count": 6,
   "metadata": {},
   "outputs": [
    {
     "name": "stdout",
     "output_type": "stream",
     "text": [
      "None\n"
     ]
    }
   ],
   "source": [
    "# a = 3\n",
    "# b = 7\n",
    "\n",
    "def times_two_numbers():\n",
    "    a = 3\n",
    "    b = 7\n",
    "    c = a * b\n",
    "#     return c\n",
    "\n",
    "print(times_two_numbers())"
   ]
  },
  {
   "cell_type": "code",
   "execution_count": 7,
   "metadata": {},
   "outputs": [
    {
     "name": "stdout",
     "output_type": "stream",
     "text": [
      "16\n"
     ]
    }
   ],
   "source": [
    "def times_two_input_numbers(a, b):\n",
    "    c = a * b\n",
    "    return c\n",
    "\n",
    "print(times_two_input_numbers(4, 4))"
   ]
  },
  {
   "cell_type": "markdown",
   "metadata": {},
   "source": [
    "### Functions can have optional arguments, which require a 'for' loop:"
   ]
  },
  {
   "cell_type": "code",
   "execution_count": 11,
   "metadata": {},
   "outputs": [
    {
     "name": "stdout",
     "output_type": "stream",
     "text": [
      "19\n"
     ]
    }
   ],
   "source": [
    "def add_some_numbers(a, b, *args):\n",
    "    c = a + b\n",
    "    for x in args:\n",
    "        c += x\n",
    "    return c\n",
    "\n",
    "print(add_some_numbers(3, 4, 5, 7))"
   ]
  },
  {
   "cell_type": "markdown",
   "metadata": {},
   "source": [
    "### For loops can be useful for arrays:"
   ]
  },
  {
   "cell_type": "code",
   "execution_count": 1,
   "metadata": {},
   "outputs": [
    {
     "name": "stdout",
     "output_type": "stream",
     "text": [
      "0\n",
      "1\n",
      "1\n",
      "2\n",
      "3\n",
      "5\n",
      "8\n"
     ]
    }
   ],
   "source": [
    "some_numbers = [0, 1, 1, 2, 3, 5, 8]\n",
    "\n",
    "for x in some_numbers:\n",
    "    print(x)"
   ]
  },
  {
   "cell_type": "markdown",
   "metadata": {},
   "source": [
    "### Specific elements can be accessed in arrays:"
   ]
  },
  {
   "cell_type": "code",
   "execution_count": 3,
   "metadata": {},
   "outputs": [
    {
     "data": {
      "text/plain": [
       "2"
      ]
     },
     "execution_count": 3,
     "metadata": {},
     "output_type": "execute_result"
    }
   ],
   "source": [
    "# Remember, array indexing starts from 0!\n",
    "\n",
    "some_numbers[3]"
   ]
  },
  {
   "cell_type": "markdown",
   "metadata": {},
   "source": [
    "### The input() function takes in a user input from the command line:"
   ]
  },
  {
   "cell_type": "code",
   "execution_count": 19,
   "metadata": {},
   "outputs": [
    {
     "name": "stdout",
     "output_type": "stream",
     "text": [
      "Enter your first number: 5\n",
      "Enter your second number: 6\n",
      "30\n"
     ]
    }
   ],
   "source": [
    "def times_two_scanned_numbers():\n",
    "    a = int(input('Enter your first number: '))\n",
    "    b = int(input('Enter your second number: '))\n",
    "    c = a * b\n",
    "    return c\n",
    "\n",
    "print(times_two_scanned_numbers())"
   ]
  },
  {
   "cell_type": "markdown",
   "metadata": {},
   "source": [
    "### Numbers that are decimals are a different type to whole numbers:"
   ]
  },
  {
   "cell_type": "code",
   "execution_count": 15,
   "metadata": {},
   "outputs": [
    {
     "name": "stdout",
     "output_type": "stream",
     "text": [
      "Enter your first number: 4.5\n",
      "Enter your second number: 3.4\n",
      "7.9\n"
     ]
    }
   ],
   "source": [
    "def add_two_scanned_numbers():\n",
    "    a = float(input('Enter your first number: '))\n",
    "    b = float(input('Enter your second number: '))\n",
    "    c = a + b\n",
    "    return c\n",
    "\n",
    "print(add_two_scanned_numbers())"
   ]
  },
  {
   "cell_type": "markdown",
   "metadata": {},
   "source": [
    "### Function outputs can also be assigned to variables:"
   ]
  },
  {
   "cell_type": "code",
   "execution_count": 35,
   "metadata": {},
   "outputs": [
    {
     "name": "stdout",
     "output_type": "stream",
     "text": [
      "Enter your first number: 1\n",
      "Enter your second number: 2\n",
      "6\n"
     ]
    }
   ],
   "source": [
    "x = add_two_scanned_numbers()\n",
    "y = 3\n",
    "z = x + y\n",
    "print(z)"
   ]
  },
  {
   "cell_type": "markdown",
   "metadata": {},
   "source": [
    "## Packages"
   ]
  },
  {
   "cell_type": "code",
   "execution_count": 37,
   "metadata": {},
   "outputs": [
    {
     "name": "stdout",
     "output_type": "stream",
     "text": [
      "2021-04-06\n"
     ]
    }
   ],
   "source": [
    "from datetime import date\n",
    "\n",
    "print(date.today())"
   ]
  },
  {
   "cell_type": "markdown",
   "metadata": {},
   "source": [
    "## Exercise"
   ]
  },
  {
   "cell_type": "markdown",
   "metadata": {},
   "source": [
    "### One of THG's sites, MyProtein, needs a new checkout system to calculate the total order price of a customer's basket. Write a program that can add products from the list below and then apply a 15% discount, leading to a final price that is output to the terminal.\n",
    "\n",
    "### Optional: \n",
    "### - Make the program a function that can be ran, and returns the value of the final price\n",
    "### - Add a more 'user-friendly' feel to the program i.e. 'Thanks for your order. Your total price is: £x\"\n",
    "### - Require inputs to the program (either using 'input()' or coding them directly into the function)\n",
    "### - Any extra functionality you think would be a nice addition!"
   ]
  },
  {
   "cell_type": "markdown",
   "metadata": {},
   "source": [
    "### Products:"
   ]
  },
  {
   "cell_type": "code",
   "execution_count": null,
   "metadata": {},
   "outputs": [],
   "source": [
    "# Make sure you press shift and enter on this box to add the variables to the Jupyter notebook's memory!\n",
    "whey_protein = 8.99\n",
    "protein_bar = 1.50\n",
    "workout_leggings = 42.00\n",
    "mp_t_shirt = 15.00\n",
    "multivitamin_tablets = 7.99\n",
    "cycling_shorts = 19.99\n",
    "shaker = 5.00\n",
    "pre_workout = 39.99\n",
    "sugar_free_syrup = 6.49\n",
    "protein_spread = 6.99\n",
    "\n",
    "product_list = {\"whey_protein\" : 8.99,\"protein_bar\" :1.50,\n",
    "                \"workout_leggings\" : 42.00,\n",
    "                \"mp_t_shirt\" : 15.00,\n",
    "                \"multivitamin_tablets\" : 7.99,\n",
    "                \"cycling_shorts\" : 19.99,\n",
    "                \"shaker\" : 5.00,\n",
    "                \"pre_workout\" : 39.99,\n",
    "                \"sugar_free_syrup\" : 6.49, \n",
    "                \"sugar_free_syrup\" : 6.49,\n",
    "                \"protein_spread\" : 6.99}\n",
    "\n",
    "for key in product_list:\n",
    "    print(product_list.get(key))\n",
    "while True:\n",
    "    for key in product_list:\n",
    "        print(product_list.get(key))\n",
    "    item_chosen = input(\"Choose the items from the list : \\n\")    "
   ]
  },
  {
   "cell_type": "markdown",
   "metadata": {},
   "source": [
    "### Your Solution:"
   ]
  },
  {
   "cell_type": "code",
   "execution_count": null,
   "metadata": {},
   "outputs": [],
   "source": [
    "a=5\n"
   ]
  },
  {
   "cell_type": "code",
   "execution_count": null,
   "metadata": {},
   "outputs": [],
   "source": [
    "# Make sure you press shift and enter on this box to add the variables to the Jupyter notebook's memory!\n",
    "whey_protein = 8.99\n",
    "protein_bar = 1.50\n",
    "workout_leggings = 42.00\n",
    "mp_t_shirt = 15.00\n",
    "multivitamin_tablets = 7.99\n",
    "cycling_shorts = 19.99\n",
    "shaker = 5.00\n",
    "pre_workout = 39.99\n",
    "sugar_free_syrup = 6.49\n",
    "protein_spread = 6.99\n",
    "\n",
    "product_list = {\"whey_protein\" : 8.99,\"protein_bar\" :1.50,\n",
    "                \"workout_leggings\" : 42.00,\n",
    "                \"mp_t_shirt\" : 15.00,\n",
    "                \"multivitamin_tablets\" : 7.99,\n",
    "                \"cycling_shorts\" : 19.99,\n",
    "                \"shaker\" : 5.00,\n",
    "                \"pre_workout\" : 39.99,\n",
    "                \"sugar_free_syrup\" : 6.49, \n",
    "                \"sugar_free_syrup\" : 6.49,\n",
    "                \"protein_spread\" : 6.99}\n",
    "\n",
    "for key in product_list:\n",
    "    print(product_list.get(key))\n",
    "while True:\n",
    "    for key in product_list:\n",
    "        print(product_list.get(key))\n",
    "    item_chosen = input(\"Choose the items from the list : \\n\")    "
   ]
  },
  {
   "cell_type": "code",
   "execution_count": null,
   "metadata": {},
   "outputs": [],
   "source": []
  }
 ],
 "metadata": {
  "kernelspec": {
   "display_name": "Python 3",
   "language": "python",
   "name": "python3"
  },
  "language_info": {
   "codemirror_mode": {
    "name": "ipython",
    "version": 3
   },
   "file_extension": ".py",
   "mimetype": "text/x-python",
   "name": "python",
   "nbconvert_exporter": "python",
   "pygments_lexer": "ipython3",
   "version": "3.8.3"
  }
 },
 "nbformat": 4,
 "nbformat_minor": 5
}
