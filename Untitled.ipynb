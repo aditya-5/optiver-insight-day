{
 "cells": [
  {
   "cell_type": "code",
   "execution_count": 34,
   "id": "direct-exclusion",
   "metadata": {},
   "outputs": [
    {
     "name": "stdout",
     "output_type": "stream",
     "text": [
      "Setup was successful.\n"
     ]
    }
   ],
   "source": [
    "from optibook.synchronous_client import Exchange\n",
    "\n",
    "import logging\n",
    "logger = logging.getLogger('client')\n",
    "logger.setLevel('ERROR')\n",
    "\n",
    "print(\"Setup was successful.\")"
   ]
  },
  {
   "cell_type": "code",
   "execution_count": 240,
   "id": "virgin-globe",
   "metadata": {},
   "outputs": [
    {
     "name": "stderr",
     "output_type": "stream",
     "text": [
      "2021-04-09 09:43:37,389 [asyncio   ] [MainThread  ] Using selector: EpollSelector\n"
     ]
    }
   ],
   "source": [
    "# instrument_id = 'PHILIPS_B'\n",
    "instrument_id = 'PHILIPS_A'\n",
    "\n",
    "e = Exchange()\n",
    "a = e.connect()"
   ]
  },
  {
   "cell_type": "code",
   "execution_count": 238,
   "id": "impressive-speaker",
   "metadata": {},
   "outputs": [
    {
     "name": "stdout",
     "output_type": "stream",
     "text": [
      "TEST -32\n",
      "PHILIPS_A 223\n",
      "PHILIPS_B 147\n"
     ]
    }
   ],
   "source": [
    "# Returns all current positions\n",
    "positions = e.get_positions()\n",
    "for p in positions:\n",
    "    print(p, positions[p])\n",
    "    \n",
    "    "
   ]
  },
  {
   "cell_type": "code",
   "execution_count": 181,
   "id": "corporate-execution",
   "metadata": {},
   "outputs": [
    {
     "name": "stdout",
     "output_type": "stream",
     "text": [
      "TEST {'volume': -32, 'cash': 96000.0}\n",
      "PHILIPS_A {'volume': 423, 'cash': -74274.79999999997}\n",
      "PHILIPS_B {'volume': 327, 'cash': -62512.20000000001}\n"
     ]
    }
   ],
   "source": [
    "# Returns all current positions with cash invested\n",
    "positions = e.get_positions_and_cash()\n",
    "for p in positions:\n",
    "    print(p, positions[p])"
   ]
  },
  {
   "cell_type": "code",
   "execution_count": 229,
   "id": "american-stadium",
   "metadata": {},
   "outputs": [
    {
     "name": "stdout",
     "output_type": "stream",
     "text": [
      "Order Id: 2436164\n"
     ]
    }
   ],
   "source": [
    "# Insert bid limit order - This trades against any current orders, and any remainders become new resting orders in the book\n",
    "# Use this to buy.\n",
    "result = e.insert_order(instrument_id, price=147.2, volume=100, side='bid', order_type='ioc')\n",
    "print(f\"Order Id: {result}\")"
   ]
  },
  {
   "cell_type": "code",
   "execution_count": 236,
   "id": "accepted-anaheim",
   "metadata": {},
   "outputs": [
    {
     "name": "stdout",
     "output_type": "stream",
     "text": [
      "Order Id: 2436704\n"
     ]
    }
   ],
   "source": [
    "# Insert ask limit order - This trades against any current orders, and any remainders become new resting orders in the book\n",
    "# Use this to sell.\n",
    "result = e.insert_order(instrument_id, price=159, volume=100, side='ask', order_type='limit')\n",
    "print(f\"Order Id: {result}\")"
   ]
  },
  {
   "cell_type": "code",
   "execution_count": 241,
   "id": "operating-array",
   "metadata": {},
   "outputs": [],
   "source": [
    "# Delete all outstanding orders\n",
    "outstanding = e.get_outstanding_orders(instrument_id)\n",
    "for o in outstanding.values():\n",
    "    result = e.delete_order(instrument_id, order_id=o.order_id)\n",
    "    print(f\"Deleted order id {o.order_id}: {result}\")"
   ]
  },
  {
   "cell_type": "code",
   "execution_count": null,
   "id": "scenic-suggestion",
   "metadata": {},
   "outputs": [],
   "source": [
    "from queue import PriorityQueue\n",
    "from time import sleep\n",
    "\n",
    "\n",
    "q = PriorityQueue()\n",
    "q.put((450, 190))\n",
    "\n",
    "\n",
    "tradeticks = e.poll_new_trade_ticks(instrument_id)\n",
    "currVolume, price = q.get()\n",
    "for t in tradeticks:\n",
    "    print(t.price, price)\n",
    "    if(t.price > price and not q.empty()):\n",
    "        result = e.insert_order(instrument_id, price=price, volume=currVolume, side='ask', order_type='limit')\n",
    "        if not q.empty():\n",
    "            currVolume, price = q.get()\n",
    "        print(\"sell\")\n",
    "\n",
    "    elif t.price < price or q.empty():\n",
    "        result = e.insert_order(instrument_id, price=t.price, volume=52, side='bid', order_type='limit')\n",
    "        flag = False\n",
    "        if q.empty():\n",
    "            flag = True\n",
    "        q.put((t.price, 50))\n",
    "        if flag:\n",
    "            currVolume, price = q.get()\n",
    "        \n",
    "        print(\"buy\")\n",
    "\n",
    "\n",
    "\n"
   ]
  },
  {
   "cell_type": "code",
   "execution_count": 216,
   "id": "assigned-transparency",
   "metadata": {},
   "outputs": [],
   "source": [
    "# Returns all currently outstanding orders\n",
    "orders = e.get_outstanding_orders(instrument_id)\n",
    "for o in orders.values():\n",
    "    print(o)"
   ]
  },
  {
   "cell_type": "code",
   "execution_count": null,
   "id": "nominated-patio",
   "metadata": {},
   "outputs": [],
   "source": [
    "from queue import PriorityQueue\n",
    "from time import sleep\n",
    "\n",
    "\n",
    "positions = e.get_positions_and_cash()\n",
    "priceBuy = {\"PHILIPS_A\": 0, \"TEST\": 0}\n",
    "\n",
    "\n",
    "while True:\n",
    "    for instrument_id in priceBuy:\n",
    "        positions = e.get_positions_and_cash()\n",
    "        stocks = positions[instrument_id]['volume']\n",
    "        priceBuy[instrument_id] = 0\n",
    "        tradeticks = e.poll_new_trade_ticks(instrument_id)\n",
    "        for t in tradeticks:\n",
    "            print(t.price, priceBuy[instrument_id], stocks)\n",
    "            if(t.price > priceBuy[instrument_id] and stocks > 0):\n",
    "                result = e.insert_order(instrument_id, price=t.price, volume=min(stocks, 52), side='ask', order_type='limit')\n",
    "                positions = e.get_positions_and_cash()\n",
    "                print(\"old stocks: \" + str(stocks))\n",
    "                stocks = positions[instrument_id]['volume']\n",
    "                print(\"new stocks: \" + str(stocks))\n",
    "                print(\"sell\")\n",
    "\n",
    "            elif t.price < priceBuy[instrument_id] or stocks <= 0:\n",
    "                result = e.insert_order(instrument_id, price=t.price, volume=52, side='bid', order_type='limit')\n",
    "                priceBuy[instrument_id] = t.price\n",
    "                stocks += 52\n",
    "                print(\"buy\")\n",
    "    sleep(0.01)\n",
    "\n",
    "\n",
    "\n",
    "\n"
   ]
  },
  {
   "cell_type": "code",
   "execution_count": 149,
   "id": "hazardous-change",
   "metadata": {},
   "outputs": [],
   "source": [
    "# Delete all outstanding orders\n",
    "outstanding = e.get_outstanding_orders(instrument_id)\n",
    "for o in outstanding.values():\n",
    "    result = e.delete_order(instrument_id, order_id=o.order_id)\n",
    "    print(f\"Deleted order id {o.order_id}: {result}\")"
   ]
  },
  {
   "cell_type": "code",
   "execution_count": null,
   "id": "eastern-amendment",
   "metadata": {},
   "outputs": [],
   "source": []
  }
 ],
 "metadata": {
  "kernelspec": {
   "display_name": "Python 3",
   "language": "python",
   "name": "python3"
  },
  "language_info": {
   "codemirror_mode": {
    "name": "ipython",
    "version": 3
   },
   "file_extension": ".py",
   "mimetype": "text/x-python",
   "name": "python",
   "nbconvert_exporter": "python",
   "pygments_lexer": "ipython3",
   "version": "3.6.12"
  }
 },
 "nbformat": 4,
 "nbformat_minor": 5
}
